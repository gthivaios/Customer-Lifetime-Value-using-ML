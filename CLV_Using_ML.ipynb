{
  "cells": [
    {
      "cell_type": "markdown",
      "metadata": {
        "id": "xcxjusrT44WU"
      },
      "source": [
        "# Customer Lifetime Value using ML approach\n",
        "\n",
        "Welcome to my implementation tutorial for Customer Lifetime Value!\n",
        "\n",
        "You are on the first step to better understanding your customers.\n",
        "\n",
        "Let's begin with our imports and loading in the data."
      ]
    },
    {
      "cell_type": "code",
      "execution_count": null,
      "metadata": {
        "id": "iv9JbHZm4zkz"
      },
      "outputs": [],
      "source": [
        "# Install libraries\n",
        "!pip install plydata\n",
        "!pip install plotnine\n",
        "!pip install xgboost"
      ]
    },
    {
      "cell_type": "code",
      "execution_count": 36,
      "metadata": {
        "id": "6yKpF5h_5K7Y"
      },
      "outputs": [],
      "source": [
        "# Import libraries\n",
        "import pandas as pd\n",
        "import numpy as np\n",
        "import joblib\n",
        "import plydata.cat_tools as cat\n",
        "import plotnine as pn\n",
        "import matplotlib.pyplot as plt\n",
        "import math\n",
        "# Machine Learning\n",
        "from xgboost import XGBClassifier, XGBRegressor\n",
        "from sklearn.model_selection import cross_val_score, GridSearchCV\n",
        "from sklearn import metrics\n",
        "from sklearn.metrics import mean_absolute_error\n",
        "from sklearn.metrics import mean_squared_error\n",
        "from sklearn.metrics import r2_score,f1_score"
      ]
    },
    {
      "cell_type": "markdown",
      "metadata": {
        "id": "s-sUzDM65QXt"
      },
      "source": [
        "## Load and Read the dataset"
      ]
    },
    {
      "cell_type": "code",
      "execution_count": 6,
      "metadata": {
        "colab": {
          "base_uri": "https://localhost:8080/",
          "height": 206
        },
        "id": "iYt9GfBj5Q4u",
        "outputId": "a113a27d-b08e-48b3-924f-6891cf8b20f6"
      },
      "outputs": [
        {
          "output_type": "execute_result",
          "data": {
            "text/plain": [
              "         cust  iri_week  spend\n",
              "0  1000267102      2022   2.99\n",
              "1  1000267507      2148   4.49\n",
              "2  1000270546      2122   4.49\n",
              "3  1000270546      2148   4.49\n",
              "4  1000272194      2144   3.99"
            ],
            "text/html": [
              "\n",
              "  <div id=\"df-2ee2a3e8-5973-4e9f-aa4a-aac54187aa73\">\n",
              "    <div class=\"colab-df-container\">\n",
              "      <div>\n",
              "<style scoped>\n",
              "    .dataframe tbody tr th:only-of-type {\n",
              "        vertical-align: middle;\n",
              "    }\n",
              "\n",
              "    .dataframe tbody tr th {\n",
              "        vertical-align: top;\n",
              "    }\n",
              "\n",
              "    .dataframe thead th {\n",
              "        text-align: right;\n",
              "    }\n",
              "</style>\n",
              "<table border=\"1\" class=\"dataframe\">\n",
              "  <thead>\n",
              "    <tr style=\"text-align: right;\">\n",
              "      <th></th>\n",
              "      <th>cust</th>\n",
              "      <th>iri_week</th>\n",
              "      <th>spend</th>\n",
              "    </tr>\n",
              "  </thead>\n",
              "  <tbody>\n",
              "    <tr>\n",
              "      <th>0</th>\n",
              "      <td>1000267102</td>\n",
              "      <td>2022</td>\n",
              "      <td>2.99</td>\n",
              "    </tr>\n",
              "    <tr>\n",
              "      <th>1</th>\n",
              "      <td>1000267507</td>\n",
              "      <td>2148</td>\n",
              "      <td>4.49</td>\n",
              "    </tr>\n",
              "    <tr>\n",
              "      <th>2</th>\n",
              "      <td>1000270546</td>\n",
              "      <td>2122</td>\n",
              "      <td>4.49</td>\n",
              "    </tr>\n",
              "    <tr>\n",
              "      <th>3</th>\n",
              "      <td>1000270546</td>\n",
              "      <td>2148</td>\n",
              "      <td>4.49</td>\n",
              "    </tr>\n",
              "    <tr>\n",
              "      <th>4</th>\n",
              "      <td>1000272194</td>\n",
              "      <td>2144</td>\n",
              "      <td>3.99</td>\n",
              "    </tr>\n",
              "  </tbody>\n",
              "</table>\n",
              "</div>\n",
              "      <button class=\"colab-df-convert\" onclick=\"convertToInteractive('df-2ee2a3e8-5973-4e9f-aa4a-aac54187aa73')\"\n",
              "              title=\"Convert this dataframe to an interactive table.\"\n",
              "              style=\"display:none;\">\n",
              "        \n",
              "  <svg xmlns=\"http://www.w3.org/2000/svg\" height=\"24px\"viewBox=\"0 0 24 24\"\n",
              "       width=\"24px\">\n",
              "    <path d=\"M0 0h24v24H0V0z\" fill=\"none\"/>\n",
              "    <path d=\"M18.56 5.44l.94 2.06.94-2.06 2.06-.94-2.06-.94-.94-2.06-.94 2.06-2.06.94zm-11 1L8.5 8.5l.94-2.06 2.06-.94-2.06-.94L8.5 2.5l-.94 2.06-2.06.94zm10 10l.94 2.06.94-2.06 2.06-.94-2.06-.94-.94-2.06-.94 2.06-2.06.94z\"/><path d=\"M17.41 7.96l-1.37-1.37c-.4-.4-.92-.59-1.43-.59-.52 0-1.04.2-1.43.59L10.3 9.45l-7.72 7.72c-.78.78-.78 2.05 0 2.83L4 21.41c.39.39.9.59 1.41.59.51 0 1.02-.2 1.41-.59l7.78-7.78 2.81-2.81c.8-.78.8-2.07 0-2.86zM5.41 20L4 18.59l7.72-7.72 1.47 1.35L5.41 20z\"/>\n",
              "  </svg>\n",
              "      </button>\n",
              "      \n",
              "  <style>\n",
              "    .colab-df-container {\n",
              "      display:flex;\n",
              "      flex-wrap:wrap;\n",
              "      gap: 12px;\n",
              "    }\n",
              "\n",
              "    .colab-df-convert {\n",
              "      background-color: #E8F0FE;\n",
              "      border: none;\n",
              "      border-radius: 50%;\n",
              "      cursor: pointer;\n",
              "      display: none;\n",
              "      fill: #1967D2;\n",
              "      height: 32px;\n",
              "      padding: 0 0 0 0;\n",
              "      width: 32px;\n",
              "    }\n",
              "\n",
              "    .colab-df-convert:hover {\n",
              "      background-color: #E2EBFA;\n",
              "      box-shadow: 0px 1px 2px rgba(60, 64, 67, 0.3), 0px 1px 3px 1px rgba(60, 64, 67, 0.15);\n",
              "      fill: #174EA6;\n",
              "    }\n",
              "\n",
              "    [theme=dark] .colab-df-convert {\n",
              "      background-color: #3B4455;\n",
              "      fill: #D2E3FC;\n",
              "    }\n",
              "\n",
              "    [theme=dark] .colab-df-convert:hover {\n",
              "      background-color: #434B5C;\n",
              "      box-shadow: 0px 1px 3px 1px rgba(0, 0, 0, 0.15);\n",
              "      filter: drop-shadow(0px 1px 2px rgba(0, 0, 0, 0.3));\n",
              "      fill: #FFFFFF;\n",
              "    }\n",
              "  </style>\n",
              "\n",
              "      <script>\n",
              "        const buttonEl =\n",
              "          document.querySelector('#df-2ee2a3e8-5973-4e9f-aa4a-aac54187aa73 button.colab-df-convert');\n",
              "        buttonEl.style.display =\n",
              "          google.colab.kernel.accessAllowed ? 'block' : 'none';\n",
              "\n",
              "        async function convertToInteractive(key) {\n",
              "          const element = document.querySelector('#df-2ee2a3e8-5973-4e9f-aa4a-aac54187aa73');\n",
              "          const dataTable =\n",
              "            await google.colab.kernel.invokeFunction('convertToInteractive',\n",
              "                                                     [key], {});\n",
              "          if (!dataTable) return;\n",
              "\n",
              "          const docLinkHtml = 'Like what you see? Visit the ' +\n",
              "            '<a target=\"_blank\" href=https://colab.research.google.com/notebooks/data_table.ipynb>data table notebook</a>'\n",
              "            + ' to learn more about interactive tables.';\n",
              "          element.innerHTML = '';\n",
              "          dataTable['output_type'] = 'display_data';\n",
              "          await google.colab.output.renderOutput(dataTable, element);\n",
              "          const docLink = document.createElement('div');\n",
              "          docLink.innerHTML = docLinkHtml;\n",
              "          element.appendChild(docLink);\n",
              "        }\n",
              "      </script>\n",
              "    </div>\n",
              "  </div>\n",
              "  "
            ]
          },
          "metadata": {},
          "execution_count": 6
        }
      ],
      "source": [
        "df_input = pd.read_csv(\"trans_input_clv_new.csv\",engine='python')\n",
        "df_input.head()"
      ]
    },
    {
      "cell_type": "markdown",
      "metadata": {
        "id": "Z8jFi9PO5i6a"
      },
      "source": [
        "Some comments about the dataset:\n",
        " \n",
        "\n",
        "1.   We have 3 years of transactions between Apr '18 and Mar '21.\n",
        "2.   There is a cohort of 50K customers that purchased for first time the first 3 months, Apr '18 to June '18.\n",
        "\n",
        "Some preliminary counts relevant to the data."
      ]
    },
    {
      "cell_type": "code",
      "execution_count": 7,
      "metadata": {
        "colab": {
          "base_uri": "https://localhost:8080/"
        },
        "id": "_NwmE9hw5jzq",
        "outputId": "518d4e43-dc1b-4e90-9d3d-8ea979323c49"
      },
      "outputs": [
        {
          "output_type": "stream",
          "name": "stdout",
          "text": [
            "Number of customers in dataset: 50000\n",
            "Date range: 2013 - 2168\n"
          ]
        }
      ],
      "source": [
        "print(f\"Number of customers in dataset: {df_input.cust.nunique()}\")\n",
        "print(f\"Date range: {df_input.iri_week.min()} - {df_input.iri_week.max()}\")"
      ]
    },
    {
      "cell_type": "markdown",
      "metadata": {
        "id": "YIrL8o3H5vBH"
      },
      "source": [
        "We Frame the problem defining the prediction period. In our example this period will be 6 months aka 26 weeks:\n",
        "\n",
        "\n",
        "1.   Split the dataset into train and test sample\n",
        "2.   What will the customers spend the next 6 months, 26 weeks (Regression)\n",
        "3.   What is a probability of a customer to make a purchase the next 26 weeks (Clasification)"
      ]
    },
    {
      "cell_type": "code",
      "execution_count": 8,
      "metadata": {
        "id": "OaKz3nTo5v6z"
      },
      "outputs": [],
      "source": [
        "# Split the dataset in train and holdout dataset\n",
        "def split_data(n_weeks,df_input):\n",
        "  max_date = df_input['iri_week'].max()\n",
        "  cutoff = max_date - n_weeks\n",
        "  temporal_in_df = df_input \\\n",
        "    [df_input['iri_week'] <= cutoff]\n",
        "  temporal_out_df = df_input \\\n",
        "    [df_input['iri_week'] > cutoff]\n",
        "  return temporal_in_df,temporal_out_df"
      ]
    },
    {
      "cell_type": "markdown",
      "metadata": {
        "id": "4hsKp8M055cP"
      },
      "source": [
        "# Feature Engineering\n",
        "\n",
        "Below we implement functions to compute the features we need. We are performing RFM analysis and so we need to compute the Recency, Frequency and Average Monetary Value for each customer.\n",
        "\n",
        "Keep in mind, we can add additional features too, but they would need to be aggregated across each customer.\n",
        "\n",
        "\n",
        "## RFM (Recency-Frequency-Monetary Value)"
      ]
    },
    {
      "cell_type": "code",
      "execution_count": 9,
      "metadata": {
        "id": "2IzD8JLV555l"
      },
      "outputs": [],
      "source": [
        "# RFM data structure\n",
        "def data_preparation(temporal_in_df,temporal_out_df):\n",
        "  targets_df = temporal_out_df \\\n",
        "    .drop('iri_week', axis=1) \\\n",
        "    .groupby('cust') \\\n",
        "    .sum() \\\n",
        "    .rename({'spend': 'spend_6m'}, axis = 1) \\\n",
        "    .assign(spend_6m_flag = 1)\n",
        "  max_train_date = temporal_in_df['iri_week'].max()\n",
        "  recency_features_df = temporal_in_df \\\n",
        "    [['cust', 'iri_week']] \\\n",
        "    .groupby('cust') \\\n",
        "    .apply(\n",
        "        lambda x: (max_train_date - x['iri_week'].max())) \\\n",
        "    .to_frame() \\\n",
        "    .set_axis(['recency'], axis=1)\n",
        "  frequency_features_df = temporal_in_df \\\n",
        "    [['cust', 'iri_week']] \\\n",
        "    .groupby('cust') \\\n",
        "    .count() \\\n",
        "    .set_axis(['frequency'], axis=1)\n",
        "  spend_features_df = temporal_in_df \\\n",
        "    .groupby('cust') \\\n",
        "    .aggregate(\n",
        "        {\n",
        "            'spend': [\"sum\",\"mean\"]\n",
        "        }\n",
        "    ) \\\n",
        "    .set_axis(['spend_sum', 'spend_mean'], axis=1)\n",
        "  # Combine features\n",
        "  features_df = pd.concat(\n",
        "      [recency_features_df, frequency_features_df, spend_features_df], axis = 1\n",
        "      ) \\\n",
        "      .merge(\n",
        "          targets_df,\n",
        "          left_index = True,\n",
        "          right_index = True,\n",
        "          how = \"left\"\n",
        "          ) \\\n",
        "      .fillna(0)\n",
        "  return features_df"
      ]
    },
    {
      "cell_type": "code",
      "execution_count": 10,
      "metadata": {
        "id": "TZqgM9646OyZ"
      },
      "outputs": [],
      "source": [
        "temporal_in_df, temporal_out_df = split_data(26, df_input)\n",
        "final_df = data_preparation(temporal_in_df,temporal_out_df)"
      ]
    },
    {
      "cell_type": "markdown",
      "metadata": {
        "id": "fk93sqZb6XPh"
      },
      "source": [
        "## Concept\n",
        "\n",
        "The way it works is that we can split the training data into an observed period and a future period. If we want to predict how much a customer will spend in a year, we would set the length of the future period as one year, and the rest would come under observed (as shown below).\n",
        "\n",
        "![picture](https://drive.google.com/file/d/1xSOVvsr8GyRG2Sf3NW2I7c6oCDh1LGz_/view?usp=share_link)"
      ]
    },
    {
      "cell_type": "markdown",
      "metadata": {
        "id": "VYM0clEv6cFB"
      },
      "source": [
        "## Machine Learning Process\n",
        "\n",
        "XGBoost is a machine learning algorithm that uses an ensemble of decision trees and gradient boosting to make predictions. It is widely used in data science and has won several machine learning competitions.\n",
        "\n",
        "It is a versatile algorithm that can be used for both classification and regression problems. It can handle different types of data and can be customized for specific needs."
      ]
    },
    {
      "cell_type": "code",
      "execution_count": 11,
      "metadata": {
        "id": "118Qy7LF6PVB"
      },
      "outputs": [],
      "source": [
        "# Regression problem - estimate spend amount the next 6 months\n",
        "def Regression_Model(final_df):\n",
        "  X = final_df[['recency', 'frequency', 'spend_sum', 'spend_mean']]\n",
        "  y_spend = final_df['spend_6m']\n",
        "  xgb_reg_spec = XGBRegressor(\n",
        "      objective=\"reg:squarederror\",\n",
        "      random_state=123\n",
        "      )\n",
        "  xgb_reg_model = GridSearchCV(\n",
        "      estimator=xgb_reg_spec,\n",
        "      param_grid=dict(\n",
        "          \n",
        "          learning_rate = [0.01, 0.1, 0.3, 0.5]\n",
        "          ),\n",
        "      scoring = 'neg_mean_absolute_error',\n",
        "      refit = True,\n",
        "      cv = 5\n",
        "      )\n",
        "  xgb_reg_model.fit(X,y_spend)\n",
        "  best_score = xgb_reg_model.best_score_\n",
        "  best_params = xgb_reg_model.best_params_\n",
        "  best_estimator = xgb_reg_model.best_estimator_\n",
        "  predictions_reg = xgb_reg_model.predict(X)\n",
        "  #return best_score,best_params,best_estimator,predictions_reg\n",
        "  return predictions_reg"
      ]
    },
    {
      "cell_type": "code",
      "execution_count": 12,
      "metadata": {
        "id": "ssAX3Tgq769l"
      },
      "outputs": [],
      "source": [
        "# Classification problem - estimate the spend probability the next 6 months\n",
        "def Classification_Model(final_df):\n",
        "  X = final_df[['recency', 'frequency', 'spend_sum', 'spend_mean']]\n",
        "  y_prob = final_df['spend_6m_flag']\n",
        "  xgb_clf_spec = XGBClassifier(\n",
        "      \n",
        "      objective = \"binary:logistic\",\n",
        "      random_state = 123\n",
        "      )\n",
        "  xgb_clf_model = GridSearchCV(\n",
        "      \n",
        "      estimator = xgb_clf_spec,\n",
        "      param_grid=dict(\n",
        "          learning_rate = [0.01, 0.1, 0.3, 0.5]\n",
        "      ),\n",
        "\n",
        "      scoring = 'roc_auc',\n",
        "      refit = True,\n",
        "      cv = 5\n",
        "      )\n",
        "  xgb_clf_model.fit(X,y_prob)\n",
        "  best_score = xgb_clf_model.best_score_\n",
        "  best_params = xgb_clf_model.best_params_\n",
        "  best_estimator = xgb_clf_model.best_estimator_\n",
        "  predictions_clf = xgb_clf_model.predict_proba(X)\n",
        "  #return best_score,best_params,best_estimator,predictions_clf\n",
        "  return predictions_clf"
      ]
    },
    {
      "cell_type": "code",
      "source": [
        "def Validation(final_df):\n",
        "  predictions_df = pd.concat(\n",
        "      [\n",
        "          pd.DataFrame(Regression_Model(final_df)).set_axis(['pred_spend'], axis=1),\n",
        "          pd.DataFrame(Classification_Model(final_df))[[1]].set_axis(['pred_prob'], axis=1),\n",
        "          final_df.reset_index()\n",
        "      ],\n",
        "      axis=1\n",
        "      )\n",
        "  predictions_df['pred_label'] = np.where(predictions_df['pred_prob']>0.5,1,0)\n",
        "  "
      ],
      "metadata": {
        "id": "ufy1cXXKHrFo"
      },
      "execution_count": null,
      "outputs": []
    },
    {
      "cell_type": "code",
      "execution_count": 13,
      "metadata": {
        "id": "CnHaK_nV9FuO"
      },
      "outputs": [],
      "source": [
        "# Final dataset with all the predicted values appended\n",
        "predictions_df = pd.concat(\n",
        "    [\n",
        "        pd.DataFrame(Regression_Model(final_df)).set_axis(['pred_spend'], axis=1),\n",
        "        pd.DataFrame(Classification_Model(final_df))[[1]].set_axis(['pred_prob'], axis=1),\n",
        "        final_df.reset_index()\n",
        "    ],\n",
        "    axis=1\n",
        ")"
      ]
    },
    {
      "cell_type": "code",
      "source": [
        "predictions_df['pred_label'] = np.where(predictions_df['pred_prob']>0.5,1,0)"
      ],
      "metadata": {
        "id": "WiYaQXSFBdrc"
      },
      "execution_count": 30,
      "outputs": []
    },
    {
      "cell_type": "code",
      "source": [
        "predictions_df"
      ],
      "metadata": {
        "colab": {
          "base_uri": "https://localhost:8080/",
          "height": 423
        },
        "id": "W9jaYcNREIK_",
        "outputId": "906a9c15-a8f6-49b9-c9d7-4c37a0f2a313"
      },
      "execution_count": 31,
      "outputs": [
        {
          "output_type": "execute_result",
          "data": {
            "text/plain": [
              "       pred_spend  pred_prob        cust  recency  frequency  spend_sum  \\\n",
              "0        2.842700   0.549194  1000246458       20          8      29.73   \n",
              "1        1.006950   0.358428  1000251782       56          4      13.46   \n",
              "2        1.678752   0.360367  1000252771       10          2      12.98   \n",
              "3        1.036742   0.336012  1000257574       42          2       7.98   \n",
              "4        1.384524   0.362181  1000264172       42          3      10.47   \n",
              "...           ...        ...         ...      ...        ...        ...   \n",
              "49995    1.248488   0.379711  2998510947        0          2       5.98   \n",
              "49996    1.438342   0.401330  2998510989       50          4      12.96   \n",
              "49997    0.869042   0.315562  2998552060       83          4      10.56   \n",
              "49998    3.015113   0.549194  2998558246       21          8      30.30   \n",
              "49999    0.484292   0.243110  2998608772      128          1       4.39   \n",
              "\n",
              "       spend_mean  spend_6m  spend_6m_flag  pred_label  \n",
              "0         3.71625      0.00            0.0           1  \n",
              "1         3.36500      0.00            0.0           0  \n",
              "2         6.49000      0.00            0.0           0  \n",
              "3         3.99000      0.00            0.0           0  \n",
              "4         3.49000      0.00            0.0           0  \n",
              "...           ...       ...            ...         ...  \n",
              "49995     2.99000      0.00            0.0           0  \n",
              "49996     3.24000      3.49            1.0           0  \n",
              "49997     2.64000      0.00            0.0           0  \n",
              "49998     3.78750      0.00            0.0           1  \n",
              "49999     4.39000      0.00            0.0           0  \n",
              "\n",
              "[50000 rows x 10 columns]"
            ],
            "text/html": [
              "\n",
              "  <div id=\"df-61c74270-e9e3-4541-9fbe-1b49e05e15ae\">\n",
              "    <div class=\"colab-df-container\">\n",
              "      <div>\n",
              "<style scoped>\n",
              "    .dataframe tbody tr th:only-of-type {\n",
              "        vertical-align: middle;\n",
              "    }\n",
              "\n",
              "    .dataframe tbody tr th {\n",
              "        vertical-align: top;\n",
              "    }\n",
              "\n",
              "    .dataframe thead th {\n",
              "        text-align: right;\n",
              "    }\n",
              "</style>\n",
              "<table border=\"1\" class=\"dataframe\">\n",
              "  <thead>\n",
              "    <tr style=\"text-align: right;\">\n",
              "      <th></th>\n",
              "      <th>pred_spend</th>\n",
              "      <th>pred_prob</th>\n",
              "      <th>cust</th>\n",
              "      <th>recency</th>\n",
              "      <th>frequency</th>\n",
              "      <th>spend_sum</th>\n",
              "      <th>spend_mean</th>\n",
              "      <th>spend_6m</th>\n",
              "      <th>spend_6m_flag</th>\n",
              "      <th>pred_label</th>\n",
              "    </tr>\n",
              "  </thead>\n",
              "  <tbody>\n",
              "    <tr>\n",
              "      <th>0</th>\n",
              "      <td>2.842700</td>\n",
              "      <td>0.549194</td>\n",
              "      <td>1000246458</td>\n",
              "      <td>20</td>\n",
              "      <td>8</td>\n",
              "      <td>29.73</td>\n",
              "      <td>3.71625</td>\n",
              "      <td>0.00</td>\n",
              "      <td>0.0</td>\n",
              "      <td>1</td>\n",
              "    </tr>\n",
              "    <tr>\n",
              "      <th>1</th>\n",
              "      <td>1.006950</td>\n",
              "      <td>0.358428</td>\n",
              "      <td>1000251782</td>\n",
              "      <td>56</td>\n",
              "      <td>4</td>\n",
              "      <td>13.46</td>\n",
              "      <td>3.36500</td>\n",
              "      <td>0.00</td>\n",
              "      <td>0.0</td>\n",
              "      <td>0</td>\n",
              "    </tr>\n",
              "    <tr>\n",
              "      <th>2</th>\n",
              "      <td>1.678752</td>\n",
              "      <td>0.360367</td>\n",
              "      <td>1000252771</td>\n",
              "      <td>10</td>\n",
              "      <td>2</td>\n",
              "      <td>12.98</td>\n",
              "      <td>6.49000</td>\n",
              "      <td>0.00</td>\n",
              "      <td>0.0</td>\n",
              "      <td>0</td>\n",
              "    </tr>\n",
              "    <tr>\n",
              "      <th>3</th>\n",
              "      <td>1.036742</td>\n",
              "      <td>0.336012</td>\n",
              "      <td>1000257574</td>\n",
              "      <td>42</td>\n",
              "      <td>2</td>\n",
              "      <td>7.98</td>\n",
              "      <td>3.99000</td>\n",
              "      <td>0.00</td>\n",
              "      <td>0.0</td>\n",
              "      <td>0</td>\n",
              "    </tr>\n",
              "    <tr>\n",
              "      <th>4</th>\n",
              "      <td>1.384524</td>\n",
              "      <td>0.362181</td>\n",
              "      <td>1000264172</td>\n",
              "      <td>42</td>\n",
              "      <td>3</td>\n",
              "      <td>10.47</td>\n",
              "      <td>3.49000</td>\n",
              "      <td>0.00</td>\n",
              "      <td>0.0</td>\n",
              "      <td>0</td>\n",
              "    </tr>\n",
              "    <tr>\n",
              "      <th>...</th>\n",
              "      <td>...</td>\n",
              "      <td>...</td>\n",
              "      <td>...</td>\n",
              "      <td>...</td>\n",
              "      <td>...</td>\n",
              "      <td>...</td>\n",
              "      <td>...</td>\n",
              "      <td>...</td>\n",
              "      <td>...</td>\n",
              "      <td>...</td>\n",
              "    </tr>\n",
              "    <tr>\n",
              "      <th>49995</th>\n",
              "      <td>1.248488</td>\n",
              "      <td>0.379711</td>\n",
              "      <td>2998510947</td>\n",
              "      <td>0</td>\n",
              "      <td>2</td>\n",
              "      <td>5.98</td>\n",
              "      <td>2.99000</td>\n",
              "      <td>0.00</td>\n",
              "      <td>0.0</td>\n",
              "      <td>0</td>\n",
              "    </tr>\n",
              "    <tr>\n",
              "      <th>49996</th>\n",
              "      <td>1.438342</td>\n",
              "      <td>0.401330</td>\n",
              "      <td>2998510989</td>\n",
              "      <td>50</td>\n",
              "      <td>4</td>\n",
              "      <td>12.96</td>\n",
              "      <td>3.24000</td>\n",
              "      <td>3.49</td>\n",
              "      <td>1.0</td>\n",
              "      <td>0</td>\n",
              "    </tr>\n",
              "    <tr>\n",
              "      <th>49997</th>\n",
              "      <td>0.869042</td>\n",
              "      <td>0.315562</td>\n",
              "      <td>2998552060</td>\n",
              "      <td>83</td>\n",
              "      <td>4</td>\n",
              "      <td>10.56</td>\n",
              "      <td>2.64000</td>\n",
              "      <td>0.00</td>\n",
              "      <td>0.0</td>\n",
              "      <td>0</td>\n",
              "    </tr>\n",
              "    <tr>\n",
              "      <th>49998</th>\n",
              "      <td>3.015113</td>\n",
              "      <td>0.549194</td>\n",
              "      <td>2998558246</td>\n",
              "      <td>21</td>\n",
              "      <td>8</td>\n",
              "      <td>30.30</td>\n",
              "      <td>3.78750</td>\n",
              "      <td>0.00</td>\n",
              "      <td>0.0</td>\n",
              "      <td>1</td>\n",
              "    </tr>\n",
              "    <tr>\n",
              "      <th>49999</th>\n",
              "      <td>0.484292</td>\n",
              "      <td>0.243110</td>\n",
              "      <td>2998608772</td>\n",
              "      <td>128</td>\n",
              "      <td>1</td>\n",
              "      <td>4.39</td>\n",
              "      <td>4.39000</td>\n",
              "      <td>0.00</td>\n",
              "      <td>0.0</td>\n",
              "      <td>0</td>\n",
              "    </tr>\n",
              "  </tbody>\n",
              "</table>\n",
              "<p>50000 rows × 10 columns</p>\n",
              "</div>\n",
              "      <button class=\"colab-df-convert\" onclick=\"convertToInteractive('df-61c74270-e9e3-4541-9fbe-1b49e05e15ae')\"\n",
              "              title=\"Convert this dataframe to an interactive table.\"\n",
              "              style=\"display:none;\">\n",
              "        \n",
              "  <svg xmlns=\"http://www.w3.org/2000/svg\" height=\"24px\"viewBox=\"0 0 24 24\"\n",
              "       width=\"24px\">\n",
              "    <path d=\"M0 0h24v24H0V0z\" fill=\"none\"/>\n",
              "    <path d=\"M18.56 5.44l.94 2.06.94-2.06 2.06-.94-2.06-.94-.94-2.06-.94 2.06-2.06.94zm-11 1L8.5 8.5l.94-2.06 2.06-.94-2.06-.94L8.5 2.5l-.94 2.06-2.06.94zm10 10l.94 2.06.94-2.06 2.06-.94-2.06-.94-.94-2.06-.94 2.06-2.06.94z\"/><path d=\"M17.41 7.96l-1.37-1.37c-.4-.4-.92-.59-1.43-.59-.52 0-1.04.2-1.43.59L10.3 9.45l-7.72 7.72c-.78.78-.78 2.05 0 2.83L4 21.41c.39.39.9.59 1.41.59.51 0 1.02-.2 1.41-.59l7.78-7.78 2.81-2.81c.8-.78.8-2.07 0-2.86zM5.41 20L4 18.59l7.72-7.72 1.47 1.35L5.41 20z\"/>\n",
              "  </svg>\n",
              "      </button>\n",
              "      \n",
              "  <style>\n",
              "    .colab-df-container {\n",
              "      display:flex;\n",
              "      flex-wrap:wrap;\n",
              "      gap: 12px;\n",
              "    }\n",
              "\n",
              "    .colab-df-convert {\n",
              "      background-color: #E8F0FE;\n",
              "      border: none;\n",
              "      border-radius: 50%;\n",
              "      cursor: pointer;\n",
              "      display: none;\n",
              "      fill: #1967D2;\n",
              "      height: 32px;\n",
              "      padding: 0 0 0 0;\n",
              "      width: 32px;\n",
              "    }\n",
              "\n",
              "    .colab-df-convert:hover {\n",
              "      background-color: #E2EBFA;\n",
              "      box-shadow: 0px 1px 2px rgba(60, 64, 67, 0.3), 0px 1px 3px 1px rgba(60, 64, 67, 0.15);\n",
              "      fill: #174EA6;\n",
              "    }\n",
              "\n",
              "    [theme=dark] .colab-df-convert {\n",
              "      background-color: #3B4455;\n",
              "      fill: #D2E3FC;\n",
              "    }\n",
              "\n",
              "    [theme=dark] .colab-df-convert:hover {\n",
              "      background-color: #434B5C;\n",
              "      box-shadow: 0px 1px 3px 1px rgba(0, 0, 0, 0.15);\n",
              "      filter: drop-shadow(0px 1px 2px rgba(0, 0, 0, 0.3));\n",
              "      fill: #FFFFFF;\n",
              "    }\n",
              "  </style>\n",
              "\n",
              "      <script>\n",
              "        const buttonEl =\n",
              "          document.querySelector('#df-61c74270-e9e3-4541-9fbe-1b49e05e15ae button.colab-df-convert');\n",
              "        buttonEl.style.display =\n",
              "          google.colab.kernel.accessAllowed ? 'block' : 'none';\n",
              "\n",
              "        async function convertToInteractive(key) {\n",
              "          const element = document.querySelector('#df-61c74270-e9e3-4541-9fbe-1b49e05e15ae');\n",
              "          const dataTable =\n",
              "            await google.colab.kernel.invokeFunction('convertToInteractive',\n",
              "                                                     [key], {});\n",
              "          if (!dataTable) return;\n",
              "\n",
              "          const docLinkHtml = 'Like what you see? Visit the ' +\n",
              "            '<a target=\"_blank\" href=https://colab.research.google.com/notebooks/data_table.ipynb>data table notebook</a>'\n",
              "            + ' to learn more about interactive tables.';\n",
              "          element.innerHTML = '';\n",
              "          dataTable['output_type'] = 'display_data';\n",
              "          await google.colab.output.renderOutput(dataTable, element);\n",
              "          const docLink = document.createElement('div');\n",
              "          docLink.innerHTML = docLinkHtml;\n",
              "          element.appendChild(docLink);\n",
              "        }\n",
              "      </script>\n",
              "    </div>\n",
              "  </div>\n",
              "  "
            ]
          },
          "metadata": {},
          "execution_count": 31
        }
      ]
    },
    {
      "cell_type": "code",
      "source": [
        "# plot the expected spend vs the actual spend\n",
        "predictions_df.plot(x='frequency', y=['pred_spend', 'spend_6m'])\n",
        "plt.show()"
      ],
      "metadata": {
        "colab": {
          "base_uri": "https://localhost:8080/",
          "height": 449
        },
        "id": "9Wp9YXr58oGQ",
        "outputId": "0ecbc966-02cd-4d50-aea6-34dd8ce4060a"
      },
      "execution_count": 20,
      "outputs": [
        {
          "output_type": "display_data",
          "data": {
            "text/plain": [
              "<Figure size 640x480 with 1 Axes>"
            ],
            "image/png": "[encoded data removed]"
          },
          "metadata": {}
        }
      ]
    },
    {
      "cell_type": "code",
      "source": [
        "auc = metrics.roc_auc_score(predictions_df['pred_label'],predictions_df['spend_6m_flag'])\n",
        "fpr, tpr, _ = metrics.roc_curve(predictions_df['pred_label'],predictions_df['spend_6m_flag'])\n",
        "\n",
        "plt.plot(fpr, tpr,label=\"AUC=\"+str(auc))\n",
        "plt.ylabel('True Positive Rate')\n",
        "plt.xlabel('False Positive Rate')\n",
        "plt.legend(loc=4)\n",
        "plt.show()"
      ],
      "metadata": {
        "colab": {
          "base_uri": "https://localhost:8080/",
          "height": 449
        },
        "id": "f46E6hkc9y37",
        "outputId": "917be123-a5f7-44ad-9f9e-7546ecf4a225"
      },
      "execution_count": 32,
      "outputs": [
        {
          "output_type": "display_data",
          "data": {
            "text/plain": [
              "<Figure size 640x480 with 1 Axes>"
            ],
            "image/png": "[encoded data removed]"
          },
          "metadata": {}
        }
      ]
    },
    {
      "cell_type": "code",
      "source": [
        "MSE = mean_squared_error(predictions_df['spend_6m'], predictions_df['pred_spend'])\n",
        "RMSE = math.sqrt(MSE)\n",
        "print(\"Mean_Squared_Error:\\n\")\n",
        "print(MSE)\n",
        "print(RMSE)"
      ],
      "metadata": {
        "colab": {
          "base_uri": "https://localhost:8080/"
        },
        "id": "UblwINuZCc8A",
        "outputId": "10c3c8f0-a16b-47d5-f302-0f138f22c8be"
      },
      "execution_count": 37,
      "outputs": [
        {
          "output_type": "stream",
          "name": "stdout",
          "text": [
            "Mean_Squared_Error:\n",
            "\n",
            "31.255097122117608\n",
            "5.590625825622531\n"
          ]
        }
      ]
    }
  ],
  "metadata": {
    "colab": {
      "provenance": [],
      "authorship_tag": "ABX9TyMnNOU5kuwMjO97r9fiuFDQ"
    },
    "kernelspec": {
      "display_name": "Python 3",
      "name": "python3"
    },
    "language_info": {
      "name": "python"
    }
  },
  "nbformat": 4,
  "nbformat_minor": 0
}